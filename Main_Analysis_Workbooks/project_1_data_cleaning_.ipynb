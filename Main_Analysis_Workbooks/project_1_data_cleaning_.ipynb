{
 "cells": [
  {
   "cell_type": "code",
   "execution_count": 57,
   "metadata": {},
   "outputs": [],
   "source": [
    "import pandas as pd\n",
    "import numpy as np \n",
    "import time\n",
    "from datetime import datetime, timedelta"
   ]
  },
  {
   "cell_type": "code",
   "execution_count": 58,
   "metadata": {},
   "outputs": [],
   "source": [
    "# read raw data (downloaded from http://web.mta.info/developers/turnstile.html) to dataframe \n",
    "\n",
    "df_march_3 = pd.read_csv('3_3_2018.csv')\n",
    "df_march_10 = pd.read_csv('3_10_2018.csv')\n",
    "df_march_17 = pd.read_csv('3_17_2018.csv')\n",
    "df_march_24 = pd.read_csv('3_24_2018.csv')\n",
    "df_march_31 = pd.read_csv('3_31_2018.csv')\n",
    "df_april_7 = pd.read_csv('4_7_2018.csv')\n",
    "df_april_14 = pd.read_csv('4_14_2018.csv')\n",
    "df_april_21 = pd.read_csv('4_21_2018.csv')\n",
    "df_april_28 = pd.read_csv('4_28_2018.csv')\n",
    "df_may_5 = pd.read_csv('5_5_2018.csv')\n",
    "df_may_12 = pd.read_csv('5_12_2018.csv')\n",
    "df_may_19 = pd.read_csv('5_19_2018.csv')\n",
    "df_may_26 = pd.read_csv('5_26_2018.csv')\n",
    "df_june_2 = pd.read_csv('6_2_2018.csv')\n",
    "df_june_9 = pd.read_csv('6_9_2018.csv')\n",
    "df_june_16 = pd.read_csv('6_16_2018.csv')"
   ]
  },
  {
   "cell_type": "code",
   "execution_count": 59,
   "metadata": {},
   "outputs": [],
   "source": [
    "# combine individual dataframes into a single merged dataframes \n",
    "\n",
    "frames = [df_march_3, df_march_10, df_march_17, df_march_24, df_march_31, df_april_7, df_april_14, df_april_21, df_april_28, df_may_5, df_may_12, df_may_19, df_may_26, df_june_2, df_june_9, df_june_16]\n",
    "merge = pd.concat(frames)"
   ]
  },
  {
   "cell_type": "code",
   "execution_count": 60,
   "metadata": {},
   "outputs": [],
   "source": [
    "# remove white space from column names (specifically EXITS) and create new columns in merge dataframe\n",
    "\n",
    "new_names = [name.strip() for name in merge.columns]\n",
    "merge.columns = new_names"
   ]
  },
  {
   "cell_type": "code",
   "execution_count": 61,
   "metadata": {},
   "outputs": [],
   "source": [
    "# Remove \"RECOVR AUD\" entries (in DESC column), which refers to a missed audit that was recovered\n",
    "\n",
    "merge = merge[merge['DESC'] != 'RECOVR AUD']"
   ]
  },
  {
   "cell_type": "code",
   "execution_count": 62,
   "metadata": {},
   "outputs": [],
   "source": [
    "# convert DATE column to datetime\n",
    "# create 'month' and 'day_of_week' columns\n",
    "\n",
    "merge['DATE'] = pd.to_datetime(merge['DATE'])\n",
    "merge['month'] = merge['DATE'].dt.month\n",
    "merge['day_of_week'] = merge['DATE'].dt.weekday_name"
   ]
  },
  {
   "cell_type": "raw",
   "metadata": {},
   "source": [
    "# exploratory function (ended up using different function, below) to split data into correct day buckets (assigns midnight bucket to the previous day)\n",
    "\n",
    "def adjust_day(time_bucket):\n",
    "    \n",
    "    if merge['TIME'] == '00:00:00':\n",
    "        \n",
    "        # use datetime object and timedelta(days = 1) to compute: day_of_week - 1 day\n",
    "        one_day = timedelta(days=1)\n",
    "        \n",
    "        # substract one day from date\n",
    "        previous_day = merge['DATE'] - one_day\n",
    "        \n",
    "        # now need to convert that to day_of_week notation\n",
    "        previous_day = pd.to_datetime(merge['DATE'])\n",
    "        \n",
    "# or do this?  \n",
    "merge['day_of_week'] = merge['day_of_week'] - pd.Timedelta(pd.offsets.Day(1))"
   ]
  },
  {
   "cell_type": "code",
   "execution_count": 63,
   "metadata": {},
   "outputs": [],
   "source": [
    "# function to split data into correct day buckets (assigns midnight bucket to the previous day)\n",
    "def subtractOneDay(day):\n",
    "    \n",
    "    \"\"\"\n",
    "    In this dataset, a 'TIME' of 00:00:00 represents the 4 last hours of the previous day\n",
    "    (20:00:00 - 00:00:00). However, the corresponding day in the 'day_of_week' column of\n",
    "    the same row is the day associated with 00:00:00. For example, 00:00:00 Saturday really\n",
    "    represents data collected on Friday from 20:00:00 to 00:00:00. This function assigns the \n",
    "    day_of_week associated with any 'TIME' equal to 00:00:00 to the previous day. \n",
    "    \"\"\"\n",
    "        \n",
    "    if day == 'Saturday': \n",
    "        new_day = 'Friday'\n",
    "    elif day == 'Friday': \n",
    "        new_day = 'Thursday'\n",
    "    elif day == 'Thursday': \n",
    "        new_day = 'Wednesday'\n",
    "    elif day == 'Wednesday': \n",
    "        new_day = 'Tuesday'\n",
    "    elif day == 'Tuesday': \n",
    "        new_day = 'Monday'\n",
    "    elif day == 'Monday': \n",
    "        new_day = 'Sunday'\n",
    "    elif day == 'Sunday': \n",
    "        new_day = 'Saturday'\n",
    "    return new_day"
   ]
  },
  {
   "cell_type": "code",
   "execution_count": 64,
   "metadata": {},
   "outputs": [],
   "source": [
    "# reset index and drop old index to avoid getting a Value Error when running SubtractOneDay function\n",
    "merge = merge.reset_index(drop=True)"
   ]
  },
  {
   "cell_type": "code",
   "execution_count": 65,
   "metadata": {},
   "outputs": [],
   "source": [
    "# applies subtractOneDay() function to 'TIME' column and assigns data to new column\n",
    "merge['new_day'] = merge.day_of_week[merge['TIME'] == '00:00:00'].apply(subtractOneDay)\n",
    "# fills in null values in new column with corresonding value from 'day_of_week'\n",
    "merge['new_day'] = merge['new_day'].fillna(merge['day_of_week'])"
   ]
  },
  {
   "cell_type": "code",
   "execution_count": 66,
   "metadata": {},
   "outputs": [],
   "source": [
    "# function to group time intervals from 'TIME' column into categories in new column\n",
    "def convertTimeToCategory(time):\n",
    "    \n",
    "    \"\"\"\n",
    "    This function creates a new column that groups time intervals into categories:\n",
    "    \n",
    "    00:00 < late night <= 4:00\n",
    "    4:00 < early risers <= 8:00\n",
    "    8:00 < morning <= 12:00\n",
    "    12:00 < afternoon <= 16:00\n",
    "    16:00 < evening  <= 20:00\n",
    "    20:00 < night <= 00:00\n",
    "    \"\"\"\n",
    "    \n",
    "    hour = time.hour\n",
    "    if hour > 20 or hour == 0:\n",
    "        category = 'Night'\n",
    "    elif hour > 16:\n",
    "        category = 'Evening'\n",
    "    elif hour > 12:\n",
    "        category = 'Afternoon'\n",
    "    elif hour > 8:\n",
    "        category = 'Morning'\n",
    "    elif hour > 4:\n",
    "        category = 'Early Risers'\n",
    "    elif hour > 0:\n",
    "        category = 'Late Night'\n",
    "    \n",
    "    return category"
   ]
  },
  {
   "cell_type": "code",
   "execution_count": 67,
   "metadata": {},
   "outputs": [],
   "source": [
    "# apply convertTimeToCategory() function\n",
    "\n",
    "merge['TIME_2'] = pd.to_datetime(merge['TIME']).dt.round('H')\n",
    "merge['Category'] = merge['TIME_2'].apply(convertTimeToCategory)\n",
    "merge.drop(columns=['TIME_2'], inplace = True)\n",
    "# merge['TIME'] = pd.to_timedelta(merge['TIME'], unit='H')\n",
    "# merge['Category'] = merge['TIME'].apply(convertTimeToCategory)"
   ]
  },
  {
   "cell_type": "code",
   "execution_count": 68,
   "metadata": {},
   "outputs": [],
   "source": [
    "# compute values for number of people entering and exiting a turnstile for a given time stamp\n",
    "\n",
    "merge['Ent'] = merge['ENTRIES'].diff()\n",
    "merge['Ext'] = merge['EXITS'].diff()"
   ]
  },
  {
   "cell_type": "code",
   "execution_count": 69,
   "metadata": {},
   "outputs": [],
   "source": [
    "# remove NaN values in row 0\n",
    "\n",
    "merge = merge.dropna(axis=0)"
   ]
  },
  {
   "cell_type": "code",
   "execution_count": 70,
   "metadata": {},
   "outputs": [],
   "source": [
    "# remove negative values for Ent or Ext\n",
    "\n",
    "merge = merge[merge['Ent'] >= 0]\n",
    "merge = merge[merge['Ext'] >= 0]"
   ]
  },
  {
   "cell_type": "code",
   "execution_count": 71,
   "metadata": {},
   "outputs": [],
   "source": [
    "# Use Dan's magic_number function to remove outliers\n",
    "# See 'getCutoff.ipynb' for source for these numbers\n",
    "\n",
    "merge = merge[merge['Ent'] <= 312943]\n",
    "merge = merge[merge['Ext'] <= 143941]"
   ]
  },
  {
   "cell_type": "code",
   "execution_count": 72,
   "metadata": {},
   "outputs": [],
   "source": [
    "# Sum Ent and Ext to compute total number of people moving through a single turnstile in a given time frame\n",
    "\n",
    "merge['traffic'] = merge['Ent'] + merge['Ext']"
   ]
  },
  {
   "cell_type": "code",
   "execution_count": 73,
   "metadata": {},
   "outputs": [],
   "source": [
    "# move cleaned data to a csv file\n",
    "merge.to_csv('clean_merged_mta_data.csv', index = False)"
   ]
  },
  {
   "cell_type": "code",
   "execution_count": null,
   "metadata": {},
   "outputs": [],
   "source": []
  }
 ],
 "metadata": {
  "kernelspec": {
   "display_name": "Python 3",
   "language": "python",
   "name": "python3"
  },
  "language_info": {
   "codemirror_mode": {
    "name": "ipython",
    "version": 3
   },
   "file_extension": ".py",
   "mimetype": "text/x-python",
   "name": "python",
   "nbconvert_exporter": "python",
   "pygments_lexer": "ipython3",
   "version": "3.7.3"
  }
 },
 "nbformat": 4,
 "nbformat_minor": 2
}
