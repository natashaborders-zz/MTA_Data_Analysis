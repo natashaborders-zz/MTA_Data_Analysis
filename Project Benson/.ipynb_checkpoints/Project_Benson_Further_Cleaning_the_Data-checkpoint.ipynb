{
 "cells": [
  {
   "cell_type": "code",
   "execution_count": 2,
   "metadata": {},
   "outputs": [],
   "source": [
    "import pandas as pd\n",
    "import matplotlib.pyplot as plt\n",
    "import seaborn as sns\n",
    "import time\n",
    "%matplotlib inline\n",
    "import numpy as np"
   ]
  },
  {
   "cell_type": "code",
   "execution_count": 3,
   "metadata": {},
   "outputs": [],
   "source": [
    "cleaned_data_with_outliers = pd.read_csv('cleaned_data_with_outliers.csv')"
   ]
  },
  {
   "cell_type": "code",
   "execution_count": 4,
   "metadata": {},
   "outputs": [],
   "source": [
    "cleaned_data_with_outliers.drop('Unnamed: 0', axis=1, inplace=True)"
   ]
  },
  {
   "cell_type": "code",
   "execution_count": 49,
   "metadata": {},
   "outputs": [
    {
     "data": {
      "text/html": [
       "<div>\n",
       "<style scoped>\n",
       "    .dataframe tbody tr th:only-of-type {\n",
       "        vertical-align: middle;\n",
       "    }\n",
       "\n",
       "    .dataframe tbody tr th {\n",
       "        vertical-align: top;\n",
       "    }\n",
       "\n",
       "    .dataframe thead th {\n",
       "        text-align: right;\n",
       "    }\n",
       "</style>\n",
       "<table border=\"1\" class=\"dataframe\">\n",
       "  <thead>\n",
       "    <tr style=\"text-align: right;\">\n",
       "      <th></th>\n",
       "      <th>C/A</th>\n",
       "      <th>UNIT</th>\n",
       "      <th>SCP</th>\n",
       "      <th>STATION</th>\n",
       "      <th>LINENAME</th>\n",
       "      <th>DIVISION</th>\n",
       "      <th>DATE</th>\n",
       "      <th>TIME</th>\n",
       "      <th>DESC</th>\n",
       "      <th>ENTRIES</th>\n",
       "      <th>EXITS</th>\n",
       "      <th>Ent</th>\n",
       "      <th>Ext</th>\n",
       "      <th>day_of_week</th>\n",
       "      <th>month</th>\n",
       "    </tr>\n",
       "  </thead>\n",
       "  <tbody>\n",
       "    <tr>\n",
       "      <th>0</th>\n",
       "      <td>A002</td>\n",
       "      <td>R051</td>\n",
       "      <td>02-00-00</td>\n",
       "      <td>59 ST</td>\n",
       "      <td>NQR456W</td>\n",
       "      <td>BMT</td>\n",
       "      <td>2018-02-24</td>\n",
       "      <td>07:00:00</td>\n",
       "      <td>REGULAR</td>\n",
       "      <td>6527794</td>\n",
       "      <td>2210507</td>\n",
       "      <td>14.0</td>\n",
       "      <td>11.0</td>\n",
       "      <td>Saturday</td>\n",
       "      <td>2</td>\n",
       "    </tr>\n",
       "    <tr>\n",
       "      <th>1</th>\n",
       "      <td>A002</td>\n",
       "      <td>R051</td>\n",
       "      <td>02-00-00</td>\n",
       "      <td>59 ST</td>\n",
       "      <td>NQR456W</td>\n",
       "      <td>BMT</td>\n",
       "      <td>2018-02-24</td>\n",
       "      <td>11:00:00</td>\n",
       "      <td>REGULAR</td>\n",
       "      <td>6527838</td>\n",
       "      <td>2210585</td>\n",
       "      <td>44.0</td>\n",
       "      <td>78.0</td>\n",
       "      <td>Saturday</td>\n",
       "      <td>2</td>\n",
       "    </tr>\n",
       "    <tr>\n",
       "      <th>2</th>\n",
       "      <td>A002</td>\n",
       "      <td>R051</td>\n",
       "      <td>02-00-00</td>\n",
       "      <td>59 ST</td>\n",
       "      <td>NQR456W</td>\n",
       "      <td>BMT</td>\n",
       "      <td>2018-02-24</td>\n",
       "      <td>15:00:00</td>\n",
       "      <td>REGULAR</td>\n",
       "      <td>6527994</td>\n",
       "      <td>2210644</td>\n",
       "      <td>156.0</td>\n",
       "      <td>59.0</td>\n",
       "      <td>Saturday</td>\n",
       "      <td>2</td>\n",
       "    </tr>\n",
       "    <tr>\n",
       "      <th>3</th>\n",
       "      <td>A002</td>\n",
       "      <td>R051</td>\n",
       "      <td>02-00-00</td>\n",
       "      <td>59 ST</td>\n",
       "      <td>NQR456W</td>\n",
       "      <td>BMT</td>\n",
       "      <td>2018-02-24</td>\n",
       "      <td>19:00:00</td>\n",
       "      <td>REGULAR</td>\n",
       "      <td>6528278</td>\n",
       "      <td>2210705</td>\n",
       "      <td>284.0</td>\n",
       "      <td>61.0</td>\n",
       "      <td>Saturday</td>\n",
       "      <td>2</td>\n",
       "    </tr>\n",
       "    <tr>\n",
       "      <th>4</th>\n",
       "      <td>A002</td>\n",
       "      <td>R051</td>\n",
       "      <td>02-00-00</td>\n",
       "      <td>59 ST</td>\n",
       "      <td>NQR456W</td>\n",
       "      <td>BMT</td>\n",
       "      <td>2018-02-24</td>\n",
       "      <td>23:00:00</td>\n",
       "      <td>REGULAR</td>\n",
       "      <td>6528389</td>\n",
       "      <td>2210728</td>\n",
       "      <td>111.0</td>\n",
       "      <td>23.0</td>\n",
       "      <td>Saturday</td>\n",
       "      <td>2</td>\n",
       "    </tr>\n",
       "  </tbody>\n",
       "</table>\n",
       "</div>"
      ],
      "text/plain": [
       "    C/A  UNIT       SCP STATION LINENAME DIVISION        DATE      TIME  \\\n",
       "0  A002  R051  02-00-00   59 ST  NQR456W      BMT  2018-02-24  07:00:00   \n",
       "1  A002  R051  02-00-00   59 ST  NQR456W      BMT  2018-02-24  11:00:00   \n",
       "2  A002  R051  02-00-00   59 ST  NQR456W      BMT  2018-02-24  15:00:00   \n",
       "3  A002  R051  02-00-00   59 ST  NQR456W      BMT  2018-02-24  19:00:00   \n",
       "4  A002  R051  02-00-00   59 ST  NQR456W      BMT  2018-02-24  23:00:00   \n",
       "\n",
       "      DESC  ENTRIES    EXITS    Ent   Ext day_of_week  month  \n",
       "0  REGULAR  6527794  2210507   14.0  11.0    Saturday      2  \n",
       "1  REGULAR  6527838  2210585   44.0  78.0    Saturday      2  \n",
       "2  REGULAR  6527994  2210644  156.0  59.0    Saturday      2  \n",
       "3  REGULAR  6528278  2210705  284.0  61.0    Saturday      2  \n",
       "4  REGULAR  6528389  2210728  111.0  23.0    Saturday      2  "
      ]
     },
     "execution_count": 49,
     "metadata": {},
     "output_type": "execute_result"
    }
   ],
   "source": [
    "cleaned_data_with_outliers.head(5)"
   ]
  },
  {
   "cell_type": "code",
   "execution_count": 55,
   "metadata": {},
   "outputs": [],
   "source": [
    "cleaned_data_without_recover = cleaned_data_with_outliers[cleaned_data_with_outliers['DESC']!='RECOVR AUD']"
   ]
  },
  {
   "cell_type": "code",
   "execution_count": 74,
   "metadata": {},
   "outputs": [],
   "source": [
    "cleaned_data_without_outliers = cleaned_data_with_outliers[cleaned_data_with_outliers['Ent']>=0]"
   ]
  },
  {
   "cell_type": "code",
   "execution_count": 75,
   "metadata": {},
   "outputs": [],
   "source": [
    "cleaned_data_completely = cleaned_data_without_outliers[cleaned_data_without_outliers['Ext']>=0]"
   ]
  },
  {
   "cell_type": "code",
   "execution_count": 76,
   "metadata": {},
   "outputs": [
    {
     "data": {
      "text/html": [
       "<div>\n",
       "<style scoped>\n",
       "    .dataframe tbody tr th:only-of-type {\n",
       "        vertical-align: middle;\n",
       "    }\n",
       "\n",
       "    .dataframe tbody tr th {\n",
       "        vertical-align: top;\n",
       "    }\n",
       "\n",
       "    .dataframe thead th {\n",
       "        text-align: right;\n",
       "    }\n",
       "</style>\n",
       "<table border=\"1\" class=\"dataframe\">\n",
       "  <thead>\n",
       "    <tr style=\"text-align: right;\">\n",
       "      <th></th>\n",
       "      <th>ENTRIES</th>\n",
       "      <th>EXITS</th>\n",
       "      <th>Ent</th>\n",
       "      <th>Ext</th>\n",
       "      <th>month</th>\n",
       "    </tr>\n",
       "  </thead>\n",
       "  <tbody>\n",
       "    <tr>\n",
       "      <th>count</th>\n",
       "      <td>3.073366e+06</td>\n",
       "      <td>3.073366e+06</td>\n",
       "      <td>3.073366e+06</td>\n",
       "      <td>3.073366e+06</td>\n",
       "      <td>3.073366e+06</td>\n",
       "    </tr>\n",
       "    <tr>\n",
       "      <th>mean</th>\n",
       "      <td>2.697362e+07</td>\n",
       "      <td>1.977371e+07</td>\n",
       "      <td>7.483926e+05</td>\n",
       "      <td>6.509526e+05</td>\n",
       "      <td>4.179115e+00</td>\n",
       "    </tr>\n",
       "    <tr>\n",
       "      <th>std</th>\n",
       "      <td>1.550373e+08</td>\n",
       "      <td>1.340907e+08</td>\n",
       "      <td>2.997292e+07</td>\n",
       "      <td>2.770548e+07</td>\n",
       "      <td>1.111222e+00</td>\n",
       "    </tr>\n",
       "    <tr>\n",
       "      <th>min</th>\n",
       "      <td>0.000000e+00</td>\n",
       "      <td>0.000000e+00</td>\n",
       "      <td>0.000000e+00</td>\n",
       "      <td>0.000000e+00</td>\n",
       "      <td>2.000000e+00</td>\n",
       "    </tr>\n",
       "    <tr>\n",
       "      <th>25%</th>\n",
       "      <td>5.009342e+05</td>\n",
       "      <td>2.445822e+05</td>\n",
       "      <td>1.000000e+01</td>\n",
       "      <td>8.000000e+00</td>\n",
       "      <td>3.000000e+00</td>\n",
       "    </tr>\n",
       "    <tr>\n",
       "      <th>50%</th>\n",
       "      <td>2.533404e+06</td>\n",
       "      <td>1.422786e+06</td>\n",
       "      <td>7.800000e+01</td>\n",
       "      <td>5.300000e+01</td>\n",
       "      <td>4.000000e+00</td>\n",
       "    </tr>\n",
       "    <tr>\n",
       "      <th>75%</th>\n",
       "      <td>6.738118e+06</td>\n",
       "      <td>4.701100e+06</td>\n",
       "      <td>2.540000e+02</td>\n",
       "      <td>1.720000e+02</td>\n",
       "      <td>5.000000e+00</td>\n",
       "    </tr>\n",
       "    <tr>\n",
       "      <th>max</th>\n",
       "      <td>2.130068e+09</td>\n",
       "      <td>2.145850e+09</td>\n",
       "      <td>2.122404e+09</td>\n",
       "      <td>2.145033e+09</td>\n",
       "      <td>6.000000e+00</td>\n",
       "    </tr>\n",
       "  </tbody>\n",
       "</table>\n",
       "</div>"
      ],
      "text/plain": [
       "            ENTRIES         EXITS           Ent           Ext         month\n",
       "count  3.073366e+06  3.073366e+06  3.073366e+06  3.073366e+06  3.073366e+06\n",
       "mean   2.697362e+07  1.977371e+07  7.483926e+05  6.509526e+05  4.179115e+00\n",
       "std    1.550373e+08  1.340907e+08  2.997292e+07  2.770548e+07  1.111222e+00\n",
       "min    0.000000e+00  0.000000e+00  0.000000e+00  0.000000e+00  2.000000e+00\n",
       "25%    5.009342e+05  2.445822e+05  1.000000e+01  8.000000e+00  3.000000e+00\n",
       "50%    2.533404e+06  1.422786e+06  7.800000e+01  5.300000e+01  4.000000e+00\n",
       "75%    6.738118e+06  4.701100e+06  2.540000e+02  1.720000e+02  5.000000e+00\n",
       "max    2.130068e+09  2.145850e+09  2.122404e+09  2.145033e+09  6.000000e+00"
      ]
     },
     "execution_count": 76,
     "metadata": {},
     "output_type": "execute_result"
    }
   ],
   "source": [
    "cleaned_data_completely.describe()"
   ]
  },
  {
   "cell_type": "code",
   "execution_count": 79,
   "metadata": {},
   "outputs": [],
   "source": [
    "cleaned_data_no_max_Ent=cleaned_data_completely[cleaned_data_completely.Ent<=313555]"
   ]
  },
  {
   "cell_type": "code",
   "execution_count": 78,
   "metadata": {},
   "outputs": [],
   "source": [
    "cleaned_data_no_max_Ext = cleaned_data_no_max_Ent[cleaned_data_no_max_Ent.Ext<=313555]"
   ]
  },
  {
   "cell_type": "code",
   "execution_count": 80,
   "metadata": {},
   "outputs": [
    {
     "data": {
      "text/html": [
       "<div>\n",
       "<style scoped>\n",
       "    .dataframe tbody tr th:only-of-type {\n",
       "        vertical-align: middle;\n",
       "    }\n",
       "\n",
       "    .dataframe tbody tr th {\n",
       "        vertical-align: top;\n",
       "    }\n",
       "\n",
       "    .dataframe thead th {\n",
       "        text-align: right;\n",
       "    }\n",
       "</style>\n",
       "<table border=\"1\" class=\"dataframe\">\n",
       "  <thead>\n",
       "    <tr style=\"text-align: right;\">\n",
       "      <th></th>\n",
       "      <th>ENTRIES</th>\n",
       "      <th>EXITS</th>\n",
       "      <th>Ent</th>\n",
       "      <th>Ext</th>\n",
       "      <th>month</th>\n",
       "    </tr>\n",
       "  </thead>\n",
       "  <tbody>\n",
       "    <tr>\n",
       "      <th>count</th>\n",
       "      <td>3.049932e+06</td>\n",
       "      <td>3.049932e+06</td>\n",
       "      <td>3.049932e+06</td>\n",
       "      <td>3.049932e+06</td>\n",
       "      <td>3.049932e+06</td>\n",
       "    </tr>\n",
       "    <tr>\n",
       "      <th>mean</th>\n",
       "      <td>2.638088e+07</td>\n",
       "      <td>1.921880e+07</td>\n",
       "      <td>3.415896e+03</td>\n",
       "      <td>3.241456e+02</td>\n",
       "      <td>4.180020e+00</td>\n",
       "    </tr>\n",
       "    <tr>\n",
       "      <th>std</th>\n",
       "      <td>1.526065e+08</td>\n",
       "      <td>1.314930e+08</td>\n",
       "      <td>3.253139e+05</td>\n",
       "      <td>5.934377e+03</td>\n",
       "      <td>1.110913e+00</td>\n",
       "    </tr>\n",
       "    <tr>\n",
       "      <th>min</th>\n",
       "      <td>0.000000e+00</td>\n",
       "      <td>0.000000e+00</td>\n",
       "      <td>0.000000e+00</td>\n",
       "      <td>0.000000e+00</td>\n",
       "      <td>2.000000e+00</td>\n",
       "    </tr>\n",
       "    <tr>\n",
       "      <th>25%</th>\n",
       "      <td>4.932045e+05</td>\n",
       "      <td>2.396095e+05</td>\n",
       "      <td>1.000000e+01</td>\n",
       "      <td>8.000000e+00</td>\n",
       "      <td>3.000000e+00</td>\n",
       "    </tr>\n",
       "    <tr>\n",
       "      <th>50%</th>\n",
       "      <td>2.496010e+06</td>\n",
       "      <td>1.402726e+06</td>\n",
       "      <td>7.700000e+01</td>\n",
       "      <td>5.200000e+01</td>\n",
       "      <td>4.000000e+00</td>\n",
       "    </tr>\n",
       "    <tr>\n",
       "      <th>75%</th>\n",
       "      <td>6.683714e+06</td>\n",
       "      <td>4.659329e+06</td>\n",
       "      <td>2.480000e+02</td>\n",
       "      <td>1.670000e+02</td>\n",
       "      <td>5.000000e+00</td>\n",
       "    </tr>\n",
       "    <tr>\n",
       "      <th>max</th>\n",
       "      <td>2.115507e+09</td>\n",
       "      <td>2.049871e+09</td>\n",
       "      <td>8.384152e+07</td>\n",
       "      <td>3.135400e+05</td>\n",
       "      <td>6.000000e+00</td>\n",
       "    </tr>\n",
       "  </tbody>\n",
       "</table>\n",
       "</div>"
      ],
      "text/plain": [
       "            ENTRIES         EXITS           Ent           Ext         month\n",
       "count  3.049932e+06  3.049932e+06  3.049932e+06  3.049932e+06  3.049932e+06\n",
       "mean   2.638088e+07  1.921880e+07  3.415896e+03  3.241456e+02  4.180020e+00\n",
       "std    1.526065e+08  1.314930e+08  3.253139e+05  5.934377e+03  1.110913e+00\n",
       "min    0.000000e+00  0.000000e+00  0.000000e+00  0.000000e+00  2.000000e+00\n",
       "25%    4.932045e+05  2.396095e+05  1.000000e+01  8.000000e+00  3.000000e+00\n",
       "50%    2.496010e+06  1.402726e+06  7.700000e+01  5.200000e+01  4.000000e+00\n",
       "75%    6.683714e+06  4.659329e+06  2.480000e+02  1.670000e+02  5.000000e+00\n",
       "max    2.115507e+09  2.049871e+09  8.384152e+07  3.135400e+05  6.000000e+00"
      ]
     },
     "execution_count": 80,
     "metadata": {},
     "output_type": "execute_result"
    }
   ],
   "source": [
    "cleaned_data_no_max_Ext.describe()"
   ]
  },
  {
   "cell_type": "code",
   "execution_count": 84,
   "metadata": {},
   "outputs": [
    {
     "data": {
      "text/plain": [
       "<matplotlib.axes._subplots.AxesSubplot at 0x1a1ba55dd8>"
      ]
     },
     "execution_count": 84,
     "metadata": {},
     "output_type": "execute_result"
    },
    {
     "data": {
      "image/png": "[encoded data removed]",
      "text/plain": [
       "<Figure size 432x288 with 1 Axes>"
      ]
     },
     "metadata": {
      "needs_background": "light"
     },
     "output_type": "display_data"
    }
   ],
   "source": [
    "cleaned_data.Ent.plot()"
   ]
  },
  {
   "cell_type": "code",
   "execution_count": 86,
   "metadata": {},
   "outputs": [],
   "source": [
    "cleaned_data.to_csv('final_data.csv',index=False)"
   ]
  },
  {
   "cell_type": "code",
   "execution_count": null,
   "metadata": {},
   "outputs": [],
   "source": []
  }
 ],
 "metadata": {
  "kernelspec": {
   "display_name": "Python 3",
   "language": "python",
   "name": "python3"
  },
  "language_info": {
   "codemirror_mode": {
    "name": "ipython",
    "version": 3
   },
   "file_extension": ".py",
   "mimetype": "text/x-python",
   "name": "python",
   "nbconvert_exporter": "python",
   "pygments_lexer": "ipython3",
   "version": "3.7.3"
  }
 },
 "nbformat": 4,
 "nbformat_minor": 2
}
