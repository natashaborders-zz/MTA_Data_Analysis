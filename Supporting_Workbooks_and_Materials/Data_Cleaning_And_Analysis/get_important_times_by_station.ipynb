{
 "cells": [
  {
   "cell_type": "code",
   "execution_count": 200,
   "metadata": {},
   "outputs": [],
   "source": [
    "import pandas as pd\n",
    "import math\n",
    "import numpy as np\n",
    "import matplotlib.pyplot as plt\n",
    "import seaborn as sns\n",
    "import time\n",
    "from collections import defaultdict as ddict"
   ]
  },
  {
   "cell_type": "code",
   "execution_count": 201,
   "metadata": {},
   "outputs": [
    {
     "data": {
      "text/html": [
       "<div>\n",
       "<style scoped>\n",
       "    .dataframe tbody tr th:only-of-type {\n",
       "        vertical-align: middle;\n",
       "    }\n",
       "\n",
       "    .dataframe tbody tr th {\n",
       "        vertical-align: top;\n",
       "    }\n",
       "\n",
       "    .dataframe thead th {\n",
       "        text-align: right;\n",
       "    }\n",
       "</style>\n",
       "<table border=\"1\" class=\"dataframe\">\n",
       "  <thead>\n",
       "    <tr style=\"text-align: right;\">\n",
       "      <th></th>\n",
       "      <th>C/A</th>\n",
       "      <th>UNIT</th>\n",
       "      <th>SCP</th>\n",
       "      <th>STATION</th>\n",
       "      <th>LINENAME</th>\n",
       "      <th>DIVISION</th>\n",
       "      <th>DATE</th>\n",
       "      <th>TIME</th>\n",
       "      <th>DESC</th>\n",
       "      <th>ENTRIES</th>\n",
       "      <th>EXITS</th>\n",
       "      <th>month</th>\n",
       "      <th>day_of_week</th>\n",
       "      <th>Ent</th>\n",
       "      <th>Ext</th>\n",
       "      <th>Traffic</th>\n",
       "    </tr>\n",
       "  </thead>\n",
       "  <tbody>\n",
       "    <tr>\n",
       "      <th>0</th>\n",
       "      <td>A002</td>\n",
       "      <td>R051</td>\n",
       "      <td>02-00-00</td>\n",
       "      <td>59 ST</td>\n",
       "      <td>NQR456W</td>\n",
       "      <td>BMT</td>\n",
       "      <td>2018-02-24</td>\n",
       "      <td>11:00:00</td>\n",
       "      <td>REGULAR</td>\n",
       "      <td>6527838</td>\n",
       "      <td>2210585</td>\n",
       "      <td>2</td>\n",
       "      <td>Saturday</td>\n",
       "      <td>44.0</td>\n",
       "      <td>78.0</td>\n",
       "      <td>122.0</td>\n",
       "    </tr>\n",
       "    <tr>\n",
       "      <th>1</th>\n",
       "      <td>A002</td>\n",
       "      <td>R051</td>\n",
       "      <td>02-00-00</td>\n",
       "      <td>59 ST</td>\n",
       "      <td>NQR456W</td>\n",
       "      <td>BMT</td>\n",
       "      <td>2018-02-24</td>\n",
       "      <td>15:00:00</td>\n",
       "      <td>REGULAR</td>\n",
       "      <td>6527994</td>\n",
       "      <td>2210644</td>\n",
       "      <td>2</td>\n",
       "      <td>Saturday</td>\n",
       "      <td>156.0</td>\n",
       "      <td>59.0</td>\n",
       "      <td>215.0</td>\n",
       "    </tr>\n",
       "    <tr>\n",
       "      <th>2</th>\n",
       "      <td>A002</td>\n",
       "      <td>R051</td>\n",
       "      <td>02-00-00</td>\n",
       "      <td>59 ST</td>\n",
       "      <td>NQR456W</td>\n",
       "      <td>BMT</td>\n",
       "      <td>2018-02-24</td>\n",
       "      <td>19:00:00</td>\n",
       "      <td>REGULAR</td>\n",
       "      <td>6528278</td>\n",
       "      <td>2210705</td>\n",
       "      <td>2</td>\n",
       "      <td>Saturday</td>\n",
       "      <td>284.0</td>\n",
       "      <td>61.0</td>\n",
       "      <td>345.0</td>\n",
       "    </tr>\n",
       "    <tr>\n",
       "      <th>3</th>\n",
       "      <td>A002</td>\n",
       "      <td>R051</td>\n",
       "      <td>02-00-00</td>\n",
       "      <td>59 ST</td>\n",
       "      <td>NQR456W</td>\n",
       "      <td>BMT</td>\n",
       "      <td>2018-02-24</td>\n",
       "      <td>23:00:00</td>\n",
       "      <td>REGULAR</td>\n",
       "      <td>6528389</td>\n",
       "      <td>2210728</td>\n",
       "      <td>2</td>\n",
       "      <td>Saturday</td>\n",
       "      <td>111.0</td>\n",
       "      <td>23.0</td>\n",
       "      <td>134.0</td>\n",
       "    </tr>\n",
       "    <tr>\n",
       "      <th>4</th>\n",
       "      <td>A002</td>\n",
       "      <td>R051</td>\n",
       "      <td>02-00-00</td>\n",
       "      <td>59 ST</td>\n",
       "      <td>NQR456W</td>\n",
       "      <td>BMT</td>\n",
       "      <td>2018-02-25</td>\n",
       "      <td>03:00:00</td>\n",
       "      <td>REGULAR</td>\n",
       "      <td>6528417</td>\n",
       "      <td>2210734</td>\n",
       "      <td>2</td>\n",
       "      <td>Sunday</td>\n",
       "      <td>28.0</td>\n",
       "      <td>6.0</td>\n",
       "      <td>34.0</td>\n",
       "    </tr>\n",
       "    <tr>\n",
       "      <th>5</th>\n",
       "      <td>A002</td>\n",
       "      <td>R051</td>\n",
       "      <td>02-00-00</td>\n",
       "      <td>59 ST</td>\n",
       "      <td>NQR456W</td>\n",
       "      <td>BMT</td>\n",
       "      <td>2018-02-25</td>\n",
       "      <td>07:00:00</td>\n",
       "      <td>REGULAR</td>\n",
       "      <td>6528423</td>\n",
       "      <td>2210741</td>\n",
       "      <td>2</td>\n",
       "      <td>Sunday</td>\n",
       "      <td>6.0</td>\n",
       "      <td>7.0</td>\n",
       "      <td>13.0</td>\n",
       "    </tr>\n",
       "    <tr>\n",
       "      <th>6</th>\n",
       "      <td>A002</td>\n",
       "      <td>R051</td>\n",
       "      <td>02-00-00</td>\n",
       "      <td>59 ST</td>\n",
       "      <td>NQR456W</td>\n",
       "      <td>BMT</td>\n",
       "      <td>2018-02-25</td>\n",
       "      <td>11:00:00</td>\n",
       "      <td>REGULAR</td>\n",
       "      <td>6528468</td>\n",
       "      <td>2210788</td>\n",
       "      <td>2</td>\n",
       "      <td>Sunday</td>\n",
       "      <td>45.0</td>\n",
       "      <td>47.0</td>\n",
       "      <td>92.0</td>\n",
       "    </tr>\n",
       "    <tr>\n",
       "      <th>7</th>\n",
       "      <td>A002</td>\n",
       "      <td>R051</td>\n",
       "      <td>02-00-00</td>\n",
       "      <td>59 ST</td>\n",
       "      <td>NQR456W</td>\n",
       "      <td>BMT</td>\n",
       "      <td>2018-02-25</td>\n",
       "      <td>15:00:00</td>\n",
       "      <td>REGULAR</td>\n",
       "      <td>6528591</td>\n",
       "      <td>2210838</td>\n",
       "      <td>2</td>\n",
       "      <td>Sunday</td>\n",
       "      <td>123.0</td>\n",
       "      <td>50.0</td>\n",
       "      <td>173.0</td>\n",
       "    </tr>\n",
       "    <tr>\n",
       "      <th>8</th>\n",
       "      <td>A002</td>\n",
       "      <td>R051</td>\n",
       "      <td>02-00-00</td>\n",
       "      <td>59 ST</td>\n",
       "      <td>NQR456W</td>\n",
       "      <td>BMT</td>\n",
       "      <td>2018-02-25</td>\n",
       "      <td>19:00:00</td>\n",
       "      <td>REGULAR</td>\n",
       "      <td>6528785</td>\n",
       "      <td>2210886</td>\n",
       "      <td>2</td>\n",
       "      <td>Sunday</td>\n",
       "      <td>194.0</td>\n",
       "      <td>48.0</td>\n",
       "      <td>242.0</td>\n",
       "    </tr>\n",
       "    <tr>\n",
       "      <th>9</th>\n",
       "      <td>A002</td>\n",
       "      <td>R051</td>\n",
       "      <td>02-00-00</td>\n",
       "      <td>59 ST</td>\n",
       "      <td>NQR456W</td>\n",
       "      <td>BMT</td>\n",
       "      <td>2018-02-25</td>\n",
       "      <td>23:00:00</td>\n",
       "      <td>REGULAR</td>\n",
       "      <td>6528890</td>\n",
       "      <td>2210905</td>\n",
       "      <td>2</td>\n",
       "      <td>Sunday</td>\n",
       "      <td>105.0</td>\n",
       "      <td>19.0</td>\n",
       "      <td>124.0</td>\n",
       "    </tr>\n",
       "    <tr>\n",
       "      <th>10</th>\n",
       "      <td>A002</td>\n",
       "      <td>R051</td>\n",
       "      <td>02-00-00</td>\n",
       "      <td>59 ST</td>\n",
       "      <td>NQR456W</td>\n",
       "      <td>BMT</td>\n",
       "      <td>2018-02-26</td>\n",
       "      <td>03:00:00</td>\n",
       "      <td>REGULAR</td>\n",
       "      <td>6528905</td>\n",
       "      <td>2210907</td>\n",
       "      <td>2</td>\n",
       "      <td>Monday</td>\n",
       "      <td>15.0</td>\n",
       "      <td>2.0</td>\n",
       "      <td>17.0</td>\n",
       "    </tr>\n",
       "    <tr>\n",
       "      <th>11</th>\n",
       "      <td>A002</td>\n",
       "      <td>R051</td>\n",
       "      <td>02-00-00</td>\n",
       "      <td>59 ST</td>\n",
       "      <td>NQR456W</td>\n",
       "      <td>BMT</td>\n",
       "      <td>2018-02-26</td>\n",
       "      <td>07:00:00</td>\n",
       "      <td>REGULAR</td>\n",
       "      <td>6528918</td>\n",
       "      <td>2210938</td>\n",
       "      <td>2</td>\n",
       "      <td>Monday</td>\n",
       "      <td>13.0</td>\n",
       "      <td>31.0</td>\n",
       "      <td>44.0</td>\n",
       "    </tr>\n",
       "    <tr>\n",
       "      <th>12</th>\n",
       "      <td>A002</td>\n",
       "      <td>R051</td>\n",
       "      <td>02-00-00</td>\n",
       "      <td>59 ST</td>\n",
       "      <td>NQR456W</td>\n",
       "      <td>BMT</td>\n",
       "      <td>2018-02-26</td>\n",
       "      <td>11:00:00</td>\n",
       "      <td>REGULAR</td>\n",
       "      <td>6529053</td>\n",
       "      <td>2211138</td>\n",
       "      <td>2</td>\n",
       "      <td>Monday</td>\n",
       "      <td>135.0</td>\n",
       "      <td>200.0</td>\n",
       "      <td>335.0</td>\n",
       "    </tr>\n",
       "    <tr>\n",
       "      <th>13</th>\n",
       "      <td>A002</td>\n",
       "      <td>R051</td>\n",
       "      <td>02-00-00</td>\n",
       "      <td>59 ST</td>\n",
       "      <td>NQR456W</td>\n",
       "      <td>BMT</td>\n",
       "      <td>2018-02-26</td>\n",
       "      <td>15:00:00</td>\n",
       "      <td>REGULAR</td>\n",
       "      <td>6529268</td>\n",
       "      <td>2211202</td>\n",
       "      <td>2</td>\n",
       "      <td>Monday</td>\n",
       "      <td>215.0</td>\n",
       "      <td>64.0</td>\n",
       "      <td>279.0</td>\n",
       "    </tr>\n",
       "    <tr>\n",
       "      <th>14</th>\n",
       "      <td>A002</td>\n",
       "      <td>R051</td>\n",
       "      <td>02-00-00</td>\n",
       "      <td>59 ST</td>\n",
       "      <td>NQR456W</td>\n",
       "      <td>BMT</td>\n",
       "      <td>2018-02-26</td>\n",
       "      <td>19:00:00</td>\n",
       "      <td>REGULAR</td>\n",
       "      <td>6530018</td>\n",
       "      <td>2211256</td>\n",
       "      <td>2</td>\n",
       "      <td>Monday</td>\n",
       "      <td>750.0</td>\n",
       "      <td>54.0</td>\n",
       "      <td>804.0</td>\n",
       "    </tr>\n",
       "  </tbody>\n",
       "</table>\n",
       "</div>"
      ],
      "text/plain": [
       "     C/A  UNIT       SCP STATION LINENAME DIVISION        DATE      TIME  \\\n",
       "0   A002  R051  02-00-00   59 ST  NQR456W      BMT  2018-02-24  11:00:00   \n",
       "1   A002  R051  02-00-00   59 ST  NQR456W      BMT  2018-02-24  15:00:00   \n",
       "2   A002  R051  02-00-00   59 ST  NQR456W      BMT  2018-02-24  19:00:00   \n",
       "3   A002  R051  02-00-00   59 ST  NQR456W      BMT  2018-02-24  23:00:00   \n",
       "4   A002  R051  02-00-00   59 ST  NQR456W      BMT  2018-02-25  03:00:00   \n",
       "5   A002  R051  02-00-00   59 ST  NQR456W      BMT  2018-02-25  07:00:00   \n",
       "6   A002  R051  02-00-00   59 ST  NQR456W      BMT  2018-02-25  11:00:00   \n",
       "7   A002  R051  02-00-00   59 ST  NQR456W      BMT  2018-02-25  15:00:00   \n",
       "8   A002  R051  02-00-00   59 ST  NQR456W      BMT  2018-02-25  19:00:00   \n",
       "9   A002  R051  02-00-00   59 ST  NQR456W      BMT  2018-02-25  23:00:00   \n",
       "10  A002  R051  02-00-00   59 ST  NQR456W      BMT  2018-02-26  03:00:00   \n",
       "11  A002  R051  02-00-00   59 ST  NQR456W      BMT  2018-02-26  07:00:00   \n",
       "12  A002  R051  02-00-00   59 ST  NQR456W      BMT  2018-02-26  11:00:00   \n",
       "13  A002  R051  02-00-00   59 ST  NQR456W      BMT  2018-02-26  15:00:00   \n",
       "14  A002  R051  02-00-00   59 ST  NQR456W      BMT  2018-02-26  19:00:00   \n",
       "\n",
       "       DESC  ENTRIES    EXITS  month day_of_week    Ent    Ext  Traffic  \n",
       "0   REGULAR  6527838  2210585      2    Saturday   44.0   78.0    122.0  \n",
       "1   REGULAR  6527994  2210644      2    Saturday  156.0   59.0    215.0  \n",
       "2   REGULAR  6528278  2210705      2    Saturday  284.0   61.0    345.0  \n",
       "3   REGULAR  6528389  2210728      2    Saturday  111.0   23.0    134.0  \n",
       "4   REGULAR  6528417  2210734      2      Sunday   28.0    6.0     34.0  \n",
       "5   REGULAR  6528423  2210741      2      Sunday    6.0    7.0     13.0  \n",
       "6   REGULAR  6528468  2210788      2      Sunday   45.0   47.0     92.0  \n",
       "7   REGULAR  6528591  2210838      2      Sunday  123.0   50.0    173.0  \n",
       "8   REGULAR  6528785  2210886      2      Sunday  194.0   48.0    242.0  \n",
       "9   REGULAR  6528890  2210905      2      Sunday  105.0   19.0    124.0  \n",
       "10  REGULAR  6528905  2210907      2      Monday   15.0    2.0     17.0  \n",
       "11  REGULAR  6528918  2210938      2      Monday   13.0   31.0     44.0  \n",
       "12  REGULAR  6529053  2211138      2      Monday  135.0  200.0    335.0  \n",
       "13  REGULAR  6529268  2211202      2      Monday  215.0   64.0    279.0  \n",
       "14  REGULAR  6530018  2211256      2      Monday  750.0   54.0    804.0  "
      ]
     },
     "execution_count": 201,
     "metadata": {},
     "output_type": "execute_result"
    }
   ],
   "source": [
    "data = pd.read_csv('clean_merged_mta_data.csv')\n",
    "data.rename(index=str, columns={\"sum_ent_ext\": \"Traffic\"}, inplace = True)\n",
    "data.head(15)"
   ]
  },
  {
   "cell_type": "code",
   "execution_count": 224,
   "metadata": {},
   "outputs": [
    {
     "data": {
      "text/html": [
       "<div>\n",
       "<style scoped>\n",
       "    .dataframe tbody tr th:only-of-type {\n",
       "        vertical-align: middle;\n",
       "    }\n",
       "\n",
       "    .dataframe tbody tr th {\n",
       "        vertical-align: top;\n",
       "    }\n",
       "\n",
       "    .dataframe thead th {\n",
       "        text-align: right;\n",
       "    }\n",
       "</style>\n",
       "<table border=\"1\" class=\"dataframe\">\n",
       "  <thead>\n",
       "    <tr style=\"text-align: right;\">\n",
       "      <th></th>\n",
       "      <th>ENTRIES</th>\n",
       "      <th>EXITS</th>\n",
       "      <th>month</th>\n",
       "      <th>Ent</th>\n",
       "      <th>Ext</th>\n",
       "      <th>Traffic</th>\n",
       "    </tr>\n",
       "    <tr>\n",
       "      <th>TIME</th>\n",
       "      <th></th>\n",
       "      <th></th>\n",
       "      <th></th>\n",
       "      <th></th>\n",
       "      <th></th>\n",
       "      <th></th>\n",
       "    </tr>\n",
       "  </thead>\n",
       "  <tbody>\n",
       "    <tr>\n",
       "      <th>04:00:00</th>\n",
       "      <td>12107881820</td>\n",
       "      <td>11250436493</td>\n",
       "      <td>2232</td>\n",
       "      <td>18681.0</td>\n",
       "      <td>9006.0</td>\n",
       "      <td>27687.0</td>\n",
       "    </tr>\n",
       "    <tr>\n",
       "      <th>08:00:00</th>\n",
       "      <td>12107979529</td>\n",
       "      <td>11250580494</td>\n",
       "      <td>2232</td>\n",
       "      <td>96457.0</td>\n",
       "      <td>142427.0</td>\n",
       "      <td>238884.0</td>\n",
       "    </tr>\n",
       "    <tr>\n",
       "      <th>12:00:00</th>\n",
       "      <td>12108269579</td>\n",
       "      <td>11250991264</td>\n",
       "      <td>2232</td>\n",
       "      <td>287574.0</td>\n",
       "      <td>405966.0</td>\n",
       "      <td>693540.0</td>\n",
       "    </tr>\n",
       "    <tr>\n",
       "      <th>16:00:00</th>\n",
       "      <td>12108436368</td>\n",
       "      <td>11250473169</td>\n",
       "      <td>2227</td>\n",
       "      <td>230597.0</td>\n",
       "      <td>211600.0</td>\n",
       "      <td>442197.0</td>\n",
       "    </tr>\n",
       "    <tr>\n",
       "      <th>20:00:00</th>\n",
       "      <td>12108926732</td>\n",
       "      <td>11250809233</td>\n",
       "      <td>2232</td>\n",
       "      <td>490359.0</td>\n",
       "      <td>335922.0</td>\n",
       "      <td>826281.0</td>\n",
       "    </tr>\n",
       "    <tr>\n",
       "      <th>00:00:00</th>\n",
       "      <td>12107863139</td>\n",
       "      <td>11250427487</td>\n",
       "      <td>2232</td>\n",
       "      <td>132916.0</td>\n",
       "      <td>69223.0</td>\n",
       "      <td>202139.0</td>\n",
       "    </tr>\n",
       "  </tbody>\n",
       "</table>\n",
       "</div>"
      ],
      "text/plain": [
       "              ENTRIES        EXITS  month       Ent       Ext   Traffic\n",
       "TIME                                                                   \n",
       "04:00:00  12107881820  11250436493   2232   18681.0    9006.0   27687.0\n",
       "08:00:00  12107979529  11250580494   2232   96457.0  142427.0  238884.0\n",
       "12:00:00  12108269579  11250991264   2232  287574.0  405966.0  693540.0\n",
       "16:00:00  12108436368  11250473169   2227  230597.0  211600.0  442197.0\n",
       "20:00:00  12108926732  11250809233   2232  490359.0  335922.0  826281.0\n",
       "00:00:00  12107863139  11250427487   2232  132916.0   69223.0  202139.0"
      ]
     },
     "execution_count": 224,
     "metadata": {},
     "output_type": "execute_result"
    }
   ],
   "source": [
    "# Grand Central on Thursdays\n",
    "\n",
    "ordered_times_1 = [ '04:00:00','08:00:00', '12:00:00', '16:00:00', '20:00:00', '00:00:00']\n",
    "# ordered_times_2 = ['03:00:00', '07:00:00', '11:00:00', '15:00:00', '19:00:00', '23:00:00']\n",
    "\n",
    "gct = data.loc[data['STATION'] == 'GRD CNTRL-42 ST'].loc[data['day_of_week'] == 'Thursday']\n",
    "gct1 = gct.groupby('TIME').sum().sort_values(by = ['Traffic'], ascending = False).reindex(ordered_times_1)\n",
    "# gct2 = gct.groupby('TIME').sum().sort_values(by = ['Traffic'], ascending = False).reindex(ordered_times_2)\n",
    "gct1.head(20)"
   ]
  },
  {
   "cell_type": "code",
   "execution_count": 225,
   "metadata": {},
   "outputs": [
    {
     "ename": "AttributeError",
     "evalue": "'BarContainer' object has no attribute 'axes'",
     "output_type": "error",
     "traceback": [
      "\u001b[0;31m---------------------------------------------------------------------------\u001b[0m",
      "\u001b[0;31mAttributeError\u001b[0m                            Traceback (most recent call last)",
      "\u001b[0;32m<ipython-input-225-40f6fd7b0095>\u001b[0m in \u001b[0;36m<module>\u001b[0;34m\u001b[0m\n\u001b[1;32m      2\u001b[0m \u001b[0;31m# plt.ticklabel_format(axis='y', style='sci', scilimits=(0,8))\u001b[0m\u001b[0;34m\u001b[0m\u001b[0;34m\u001b[0m\u001b[0;34m\u001b[0m\u001b[0m\n\u001b[1;32m      3\u001b[0m \u001b[0mp\u001b[0m \u001b[0;34m=\u001b[0m \u001b[0mplt\u001b[0m\u001b[0;34m.\u001b[0m\u001b[0mbar\u001b[0m\u001b[0;34m(\u001b[0m\u001b[0mordered_times_1\u001b[0m\u001b[0;34m,\u001b[0m \u001b[0mgct1\u001b[0m\u001b[0;34m.\u001b[0m\u001b[0mloc\u001b[0m\u001b[0;34m[\u001b[0m\u001b[0;34m:\u001b[0m\u001b[0;34m,\u001b[0m \u001b[0;34m'Traffic'\u001b[0m\u001b[0;34m]\u001b[0m\u001b[0;34m)\u001b[0m\u001b[0;34m\u001b[0m\u001b[0;34m\u001b[0m\u001b[0m\n\u001b[0;32m----> 4\u001b[0;31m \u001b[0mp\u001b[0m\u001b[0;34m.\u001b[0m\u001b[0maxes\u001b[0m\u001b[0;34m.\u001b[0m\u001b[0mticklabel_format\u001b[0m\u001b[0;34m(\u001b[0m\u001b[0maxis\u001b[0m\u001b[0;34m=\u001b[0m\u001b[0;34m'y'\u001b[0m\u001b[0;34m,\u001b[0m \u001b[0mstyle\u001b[0m\u001b[0;34m=\u001b[0m\u001b[0;34m'sci'\u001b[0m\u001b[0;34m,\u001b[0m \u001b[0mscilimits\u001b[0m\u001b[0;34m=\u001b[0m\u001b[0;34m(\u001b[0m\u001b[0;36m0\u001b[0m\u001b[0;34m,\u001b[0m\u001b[0;36m8\u001b[0m\u001b[0;34m)\u001b[0m\u001b[0;34m)\u001b[0m\u001b[0;34m\u001b[0m\u001b[0;34m\u001b[0m\u001b[0m\n\u001b[0m\u001b[1;32m      5\u001b[0m \u001b[0mplt\u001b[0m\u001b[0;34m.\u001b[0m\u001b[0mshow\u001b[0m\u001b[0;34m(\u001b[0m\u001b[0;34m)\u001b[0m\u001b[0;34m\u001b[0m\u001b[0;34m\u001b[0m\u001b[0m\n",
      "\u001b[0;31mAttributeError\u001b[0m: 'BarContainer' object has no attribute 'axes'"
     ]
    },
    {
     "data": {
      "image/png": "[encoded data removed]",
      "text/plain": [
       "<Figure size 432x288 with 1 Axes>"
      ]
     },
     "metadata": {},
     "output_type": "display_data"
    }
   ],
   "source": [
    "# plt.plot(gct.loc[:, 'Traffic']);\n",
    "# plt.ticklabel_format(axis='y', style='sci', scilimits=(0,8))\n",
    "p = plt.bar(ordered_times_1, gct1.loc[:, 'Traffic'])\n",
    "p.axes.ticklabel_format(axis='y', style='sci', scilimits=(0,8))\n",
    "plt.show()"
   ]
  },
  {
   "cell_type": "code",
   "execution_count": 240,
   "metadata": {},
   "outputs": [
    {
     "data": {
      "image/png": "[encoded data removed]",
      "text/plain": [
       "<Figure size 1080x576 with 1 Axes>"
      ]
     },
     "metadata": {},
     "output_type": "display_data"
    }
   ],
   "source": [
    "Categories = [ '12AM - 4AM', '4AM - 8AM', '8AM - 12PM', '12PM - 4PM', '4PM - 8PM', '8PM - 12AM']\n",
    "fig = plt.figure(figsize = (15,8))\n",
    "ax = sns.barplot(x = Categories, y = 'Traffic', data=gct1.reset_index(), label='Total').set_title('Grand Central on Thursday', fontsize = 14)\n",
    "# ax.ticklabel_format(style='sci', axis = 'y')\n",
    "sns.set_style(\"whitegrid\")\n",
    "plt.ylabel('Traffic', fontsize=16)\n",
    "sns.set_palette(\"Blues\")\n",
    "plt.savefig('gct_on_thursday.png', bbox_inches = 'tight')\n",
    "plt.show()\n",
    "\n",
    "\n"
   ]
  },
  {
   "cell_type": "code",
   "execution_count": 239,
   "metadata": {},
   "outputs": [
    {
     "data": {
      "image/png": "[encoded data removed]",
      "text/plain": [
       "<Figure size 1080x576 with 1 Axes>"
      ]
     },
     "metadata": {},
     "output_type": "display_data"
    }
   ],
   "source": [
    "# Grand Central on Tuesdays\n",
    "\n",
    "ordered_times_1 = [ '04:00:00','08:00:00', '12:00:00', '16:00:00', '20:00:00', '00:00:00']\n",
    "# ordered_times_2 = ['03:00:00', '07:00:00', '11:00:00', '15:00:00', '19:00:00', '23:00:00']\n",
    "\n",
    "gct2 = data.loc[data['STATION'] == 'GRD CNTRL-42 ST'].loc[data['day_of_week'] == 'Tuesday']\n",
    "gct2 = gct2.groupby('TIME').sum().sort_values(by = ['Traffic'], ascending = False).reindex(ordered_times_1)\n",
    "\n",
    "fig = plt.figure(figsize = (15,8))\n",
    "ax = sns.barplot(x = Categories, y = 'Traffic', data=gct2.reset_index(), label='Total').set_title('Grand Central on Tuesday', fontsize = 14)\n",
    "# ax.ticklabel_format(style='sci', axis = 'y')\n",
    "sns.set_style(\"whitegrid\")\n",
    "plt.ylabel('Traffic', fontsize=16)\n",
    "plt.savefig('gct_on_tuesday.png', bbox_inches = 'tight')\n",
    "plt.show()\n"
   ]
  },
  {
   "cell_type": "code",
   "execution_count": 241,
   "metadata": {},
   "outputs": [],
   "source": [
    "sns.set_palette(\"Greens\")"
   ]
  },
  {
   "cell_type": "code",
   "execution_count": 242,
   "metadata": {},
   "outputs": [
    {
     "data": {
      "image/png": "[encoded data removed]",
      "text/plain": [
       "<Figure size 1080x576 with 1 Axes>"
      ]
     },
     "metadata": {},
     "output_type": "display_data"
    }
   ],
   "source": [
    "# Times Square on Saturdays\n",
    "\n",
    "tsq = data.loc[data['STATION'] == 'TIMES SQ-42 ST'].loc[data['day_of_week'] == 'Friday']\n",
    "tsq = tsq.groupby('TIME').sum().sort_values(by = ['Traffic'], ascending = False).reindex(ordered_times_1)\n",
    "# plt.bar(ordered_times_1, tsq.loc[:, 'Traffic'])\n",
    "\n",
    "fig = plt.figure(figsize = (15,8))\n",
    "ax2 = sns.barplot(x = Categories, y = 'Traffic', data=tsq.reset_index(), label='Total').set_title('Times Square on Friday', fontsize = 14)\n",
    "# ax.ticklabel_format(style='sci', axis = 'y')\n",
    "sns.set_style(\"whitegrid\")\n",
    "sns.set_palette(\"Greens\")\n",
    "plt.ylabel('Traffic', fontsize=16)\n",
    "plt.savefig('tsq_on_friday.png', bbox_inches = 'tight')\n",
    "plt.show()\n",
    "\n",
    "\n"
   ]
  },
  {
   "cell_type": "code",
   "execution_count": 243,
   "metadata": {},
   "outputs": [
    {
     "data": {
      "text/plain": [
       "<BarContainer object of 6 artists>"
      ]
     },
     "execution_count": 243,
     "metadata": {},
     "output_type": "execute_result"
    },
    {
     "data": {
      "image/png": "[encoded data removed]",
      "text/plain": [
       "<Figure size 432x288 with 1 Axes>"
      ]
     },
     "metadata": {},
     "output_type": "display_data"
    }
   ],
   "source": [
    "# Journal Square \n",
    "\n",
    "jsq = data.loc[data['STATION'] == 'JOURNAL SQUARE'].loc[data['day_of_week'] == 'Saturday']\n",
    "jsq['TIME']\n",
    "jsq = jsq.groupby('TIME').sum().sort_values(by = ['Traffic'], ascending = False).reindex(ordered_times_1)\n",
    "plt.bar(ordered_times_1, jsq.loc[:, 'Traffic'])"
   ]
  },
  {
   "cell_type": "code",
   "execution_count": 247,
   "metadata": {},
   "outputs": [
    {
     "data": {
      "text/plain": [
       "<BarContainer object of 6 artists>"
      ]
     },
     "execution_count": 247,
     "metadata": {},
     "output_type": "execute_result"
    },
    {
     "data": {
      "image/png": "[encoded data removed]",
      "text/plain": [
       "<Figure size 432x288 with 1 Axes>"
      ]
     },
     "metadata": {},
     "output_type": "display_data"
    }
   ],
   "source": [
    "# World Trade Center on Saturdays\n",
    "\n",
    "ordered_times_wtc = [0, 4, 8, 12, 16, 20]\n",
    "\n",
    "wtc = data.loc[data['STATION'] == 'PATH NEW WTC'].loc[data['day_of_week'] == 'Saturday']\n",
    "wtc['TIME'] = pd.to_datetime(wtc['TIME']).dt.round('H').dt.hour\n",
    "wtc['TIME'].unique()\n",
    "wtc = wtc.groupby('TIME').sum().sort_values(by = ['Traffic'], ascending = False).reindex(ordered_times_wtc)\n",
    "plt.bar(ordered_times_1, wtc.loc[:, 'Traffic'])"
   ]
  },
  {
   "cell_type": "code",
   "execution_count": 234,
   "metadata": {},
   "outputs": [
    {
     "data": {
      "image/png": "[encoded data removed]",
      "text/plain": [
       "<Figure size 1080x576 with 1 Axes>"
      ]
     },
     "metadata": {},
     "output_type": "display_data"
    }
   ],
   "source": [
    "# Penn Station on Tuesday\n",
    "\n",
    "penn = data.loc[data['STATION'] == '34 ST-PENN STA'].loc[data['day_of_week'] == 'Tuesday']\n",
    "penn = penn.groupby('TIME').sum().sort_values(by = ['Traffic'], ascending = False).reindex(ordered_times_1)\n",
    "# plt.bar(ordered_times_1, tsq.loc[:, 'Traffic'])\n",
    "\n",
    "fig = plt.figure(figsize = (15,8))\n",
    "ax3 = sns.barplot(x = Categories, y = 'Traffic', data=penn.reset_index(), label='Total').set_title('Penn Station on Tuesday', fontsize = 14)\n",
    "# ax.ticklabel_format(style='sci', axis = 'y')\n",
    "sns.set_style(\"whitegrid\")\n",
    "plt.ylabel('Traffic', fontsize=16)\n",
    "plt.savefig('penn_on_tuesday.png', bbox_inches = 'tight')\n",
    "plt.show()"
   ]
  },
  {
   "cell_type": "code",
   "execution_count": 235,
   "metadata": {},
   "outputs": [
    {
     "data": {
      "image/png": "[encoded data removed]",
      "text/plain": [
       "<Figure size 1080x576 with 1 Axes>"
      ]
     },
     "metadata": {},
     "output_type": "display_data"
    }
   ],
   "source": [
    "# Penn Station on Thursday\n",
    "\n",
    "penn2 = data.loc[data['STATION'] == '34 ST-PENN STA'].loc[data['day_of_week'] == 'Thursday']\n",
    "penn2 = penn2.groupby('TIME').sum().sort_values(by = ['Traffic'], ascending = False).reindex(ordered_times_1)\n",
    "# plt.bar(ordered_times_1, tsq.loc[:, 'Traffic'])\n",
    "\n",
    "fig = plt.figure(figsize = (15,8))\n",
    "ax3 = sns.barplot(x = Categories, y = 'Traffic', data=penn2.reset_index(), label='Total').set_title('Penn Station on Thursday', fontsize = 14)\n",
    "# ax.ticklabel_format(style='sci', axis = 'y')\n",
    "sns.set_style(\"whitegrid\")\n",
    "plt.ylabel('Traffic', fontsize=16)\n",
    "plt.savefig('penn_on_thursday.png', bbox_inches = 'tight')\n",
    "plt.show()"
   ]
  },
  {
   "cell_type": "code",
   "execution_count": 254,
   "metadata": {},
   "outputs": [],
   "source": [
    "sns.set_palette(\"Purples\")"
   ]
  },
  {
   "cell_type": "code",
   "execution_count": 263,
   "metadata": {},
   "outputs": [
    {
     "data": {
      "image/png": "[encoded data removed]",
      "text/plain": [
       "<Figure size 1080x576 with 1 Axes>"
      ]
     },
     "metadata": {},
     "output_type": "display_data"
    }
   ],
   "source": [
    "# 86 ST on\n",
    "\n",
    "st86 = data.loc[data['STATION'] == '86 ST'].loc[data['day_of_week'] == 'Wednesday']\n",
    "st86 = st86.groupby('TIME').sum().sort_values(by = ['Traffic'], ascending = False).reindex(ordered_times_1)\n",
    "# plt.bar(ordered_times_1, tsq.loc[:, 'Traffic'])\n",
    "\n",
    "fig = plt.figure(figsize = (15,8))\n",
    "ax4 = sns.barplot(x = Categories, y = 'Traffic', data=st86.reset_index(), label='Total').set_title('86 Street on Wednesday', fontsize = 14)\n",
    "# ax.ticklabel_format(style='sci', axis = 'y')\n",
    "sns.set_style(\"whitegrid\")\n",
    "plt.ylabel('Traffic', fontsize=16)\n",
    "plt.savefig('st86.png', bbox_inches = 'tight')\n",
    "plt.show()"
   ]
  },
  {
   "cell_type": "code",
   "execution_count": 260,
   "metadata": {},
   "outputs": [
    {
     "ename": "ValueError",
     "evalue": "Yellows is not a valid palette name",
     "output_type": "error",
     "traceback": [
      "\u001b[0;31m---------------------------------------------------------------------------\u001b[0m",
      "\u001b[0;31mValueError\u001b[0m                                Traceback (most recent call last)",
      "\u001b[0;32m/anaconda3/lib/python3.7/site-packages/seaborn/palettes.py\u001b[0m in \u001b[0;36mcolor_palette\u001b[0;34m(palette, n_colors, desat)\u001b[0m\n\u001b[1;32m    231\u001b[0m                 \u001b[0;31m# Perhaps a named matplotlib colormap?\u001b[0m\u001b[0;34m\u001b[0m\u001b[0;34m\u001b[0m\u001b[0;34m\u001b[0m\u001b[0m\n\u001b[0;32m--> 232\u001b[0;31m                 \u001b[0mpalette\u001b[0m \u001b[0;34m=\u001b[0m \u001b[0mmpl_palette\u001b[0m\u001b[0;34m(\u001b[0m\u001b[0mpalette\u001b[0m\u001b[0;34m,\u001b[0m \u001b[0mn_colors\u001b[0m\u001b[0;34m)\u001b[0m\u001b[0;34m\u001b[0m\u001b[0;34m\u001b[0m\u001b[0m\n\u001b[0m\u001b[1;32m    233\u001b[0m             \u001b[0;32mexcept\u001b[0m \u001b[0mValueError\u001b[0m\u001b[0;34m:\u001b[0m\u001b[0;34m\u001b[0m\u001b[0;34m\u001b[0m\u001b[0m\n",
      "\u001b[0;32m/anaconda3/lib/python3.7/site-packages/seaborn/palettes.py\u001b[0m in \u001b[0;36mmpl_palette\u001b[0;34m(name, n_colors)\u001b[0m\n\u001b[1;32m    455\u001b[0m     \u001b[0;32melse\u001b[0m\u001b[0;34m:\u001b[0m\u001b[0;34m\u001b[0m\u001b[0;34m\u001b[0m\u001b[0m\n\u001b[0;32m--> 456\u001b[0;31m         \u001b[0mcmap\u001b[0m \u001b[0;34m=\u001b[0m \u001b[0mmpl\u001b[0m\u001b[0;34m.\u001b[0m\u001b[0mcm\u001b[0m\u001b[0;34m.\u001b[0m\u001b[0mget_cmap\u001b[0m\u001b[0;34m(\u001b[0m\u001b[0mname\u001b[0m\u001b[0;34m)\u001b[0m\u001b[0;34m\u001b[0m\u001b[0;34m\u001b[0m\u001b[0m\n\u001b[0m\u001b[1;32m    457\u001b[0m         \u001b[0;32mif\u001b[0m \u001b[0mcmap\u001b[0m \u001b[0;32mis\u001b[0m \u001b[0;32mNone\u001b[0m\u001b[0;34m:\u001b[0m\u001b[0;34m\u001b[0m\u001b[0;34m\u001b[0m\u001b[0m\n",
      "\u001b[0;32m/anaconda3/lib/python3.7/site-packages/matplotlib/cm.py\u001b[0m in \u001b[0;36mget_cmap\u001b[0;34m(name, lut)\u001b[0m\n\u001b[1;32m    181\u001b[0m             \u001b[0;34m\"Colormap %s is not recognized. Possible values are: %s\"\u001b[0m\u001b[0;34m\u001b[0m\u001b[0;34m\u001b[0m\u001b[0m\n\u001b[0;32m--> 182\u001b[0;31m             % (name, ', '.join(sorted(cmap_d))))\n\u001b[0m\u001b[1;32m    183\u001b[0m \u001b[0;34m\u001b[0m\u001b[0m\n",
      "\u001b[0;31mValueError\u001b[0m: Colormap Yellows is not recognized. Possible values are: Accent, Accent_r, Blues, Blues_r, BrBG, BrBG_r, BuGn, BuGn_r, BuPu, BuPu_r, CMRmap, CMRmap_r, Dark2, Dark2_r, GnBu, GnBu_r, Greens, Greens_r, Greys, Greys_r, OrRd, OrRd_r, Oranges, Oranges_r, PRGn, PRGn_r, Paired, Paired_r, Pastel1, Pastel1_r, Pastel2, Pastel2_r, PiYG, PiYG_r, PuBu, PuBuGn, PuBuGn_r, PuBu_r, PuOr, PuOr_r, PuRd, PuRd_r, Purples, Purples_r, RdBu, RdBu_r, RdGy, RdGy_r, RdPu, RdPu_r, RdYlBu, RdYlBu_r, RdYlGn, RdYlGn_r, Reds, Reds_r, Set1, Set1_r, Set2, Set2_r, Set3, Set3_r, Spectral, Spectral_r, Wistia, Wistia_r, YlGn, YlGnBu, YlGnBu_r, YlGn_r, YlOrBr, YlOrBr_r, YlOrRd, YlOrRd_r, afmhot, afmhot_r, autumn, autumn_r, binary, binary_r, bone, bone_r, brg, brg_r, bwr, bwr_r, cividis, cividis_r, cool, cool_r, coolwarm, coolwarm_r, copper, copper_r, cubehelix, cubehelix_r, flag, flag_r, gist_earth, gist_earth_r, gist_gray, gist_gray_r, gist_heat, gist_heat_r, gist_ncar, gist_ncar_r, gist_rainbow, gist_rainbow_r, gist_stern, gist_stern_r, gist_yarg, gist_yarg_r, gnuplot, gnuplot2, gnuplot2_r, gnuplot_r, gray, gray_r, hot, hot_r, hsv, hsv_r, icefire, icefire_r, inferno, inferno_r, jet, jet_r, magma, magma_r, mako, mako_r, nipy_spectral, nipy_spectral_r, ocean, ocean_r, pink, pink_r, plasma, plasma_r, prism, prism_r, rainbow, rainbow_r, rocket, rocket_r, seismic, seismic_r, spring, spring_r, summer, summer_r, tab10, tab10_r, tab20, tab20_r, tab20b, tab20b_r, tab20c, tab20c_r, terrain, terrain_r, twilight, twilight_r, twilight_shifted, twilight_shifted_r, viridis, viridis_r, vlag, vlag_r, winter, winter_r",
      "\nDuring handling of the above exception, another exception occurred:\n",
      "\u001b[0;31mValueError\u001b[0m                                Traceback (most recent call last)",
      "\u001b[0;32m<ipython-input-260-2a0bad115c01>\u001b[0m in \u001b[0;36m<module>\u001b[0;34m\u001b[0m\n\u001b[0;32m----> 1\u001b[0;31m \u001b[0msns\u001b[0m\u001b[0;34m.\u001b[0m\u001b[0mset_palette\u001b[0m\u001b[0;34m(\u001b[0m\u001b[0;34m\"Yellows\"\u001b[0m\u001b[0;34m)\u001b[0m\u001b[0;34m\u001b[0m\u001b[0;34m\u001b[0m\u001b[0m\n\u001b[0m",
      "\u001b[0;32m/anaconda3/lib/python3.7/site-packages/seaborn/rcmod.py\u001b[0m in \u001b[0;36mset_palette\u001b[0;34m(palette, n_colors, desat, color_codes)\u001b[0m\n\u001b[1;32m    537\u001b[0m \u001b[0;34m\u001b[0m\u001b[0m\n\u001b[1;32m    538\u001b[0m     \"\"\"\n\u001b[0;32m--> 539\u001b[0;31m     \u001b[0mcolors\u001b[0m \u001b[0;34m=\u001b[0m \u001b[0mpalettes\u001b[0m\u001b[0;34m.\u001b[0m\u001b[0mcolor_palette\u001b[0m\u001b[0;34m(\u001b[0m\u001b[0mpalette\u001b[0m\u001b[0;34m,\u001b[0m \u001b[0mn_colors\u001b[0m\u001b[0;34m,\u001b[0m \u001b[0mdesat\u001b[0m\u001b[0;34m)\u001b[0m\u001b[0;34m\u001b[0m\u001b[0;34m\u001b[0m\u001b[0m\n\u001b[0m\u001b[1;32m    540\u001b[0m     \u001b[0;32mif\u001b[0m \u001b[0mmpl_ge_150\u001b[0m\u001b[0;34m:\u001b[0m\u001b[0;34m\u001b[0m\u001b[0;34m\u001b[0m\u001b[0m\n\u001b[1;32m    541\u001b[0m         \u001b[0;32mfrom\u001b[0m \u001b[0mcycler\u001b[0m \u001b[0;32mimport\u001b[0m \u001b[0mcycler\u001b[0m\u001b[0;34m\u001b[0m\u001b[0;34m\u001b[0m\u001b[0m\n",
      "\u001b[0;32m/anaconda3/lib/python3.7/site-packages/seaborn/palettes.py\u001b[0m in \u001b[0;36mcolor_palette\u001b[0;34m(palette, n_colors, desat)\u001b[0m\n\u001b[1;32m    232\u001b[0m                 \u001b[0mpalette\u001b[0m \u001b[0;34m=\u001b[0m \u001b[0mmpl_palette\u001b[0m\u001b[0;34m(\u001b[0m\u001b[0mpalette\u001b[0m\u001b[0;34m,\u001b[0m \u001b[0mn_colors\u001b[0m\u001b[0;34m)\u001b[0m\u001b[0;34m\u001b[0m\u001b[0;34m\u001b[0m\u001b[0m\n\u001b[1;32m    233\u001b[0m             \u001b[0;32mexcept\u001b[0m \u001b[0mValueError\u001b[0m\u001b[0;34m:\u001b[0m\u001b[0;34m\u001b[0m\u001b[0;34m\u001b[0m\u001b[0m\n\u001b[0;32m--> 234\u001b[0;31m                 \u001b[0;32mraise\u001b[0m \u001b[0mValueError\u001b[0m\u001b[0;34m(\u001b[0m\u001b[0;34m\"%s is not a valid palette name\"\u001b[0m \u001b[0;34m%\u001b[0m \u001b[0mpalette\u001b[0m\u001b[0;34m)\u001b[0m\u001b[0;34m\u001b[0m\u001b[0;34m\u001b[0m\u001b[0m\n\u001b[0m\u001b[1;32m    235\u001b[0m \u001b[0;34m\u001b[0m\u001b[0m\n\u001b[1;32m    236\u001b[0m     \u001b[0;32mif\u001b[0m \u001b[0mdesat\u001b[0m \u001b[0;32mis\u001b[0m \u001b[0;32mnot\u001b[0m \u001b[0;32mNone\u001b[0m\u001b[0;34m:\u001b[0m\u001b[0;34m\u001b[0m\u001b[0;34m\u001b[0m\u001b[0m\n",
      "\u001b[0;31mValueError\u001b[0m: Yellows is not a valid palette name"
     ]
    }
   ],
   "source": [
    "sns.set_palette(\"Yellows\")"
   ]
  },
  {
   "cell_type": "code",
   "execution_count": 261,
   "metadata": {},
   "outputs": [
    {
     "data": {
      "image/png": "[encoded data removed]",
      "text/plain": [
       "<Figure size 1080x576 with 1 Axes>"
      ]
     },
     "metadata": {},
     "output_type": "display_data"
    }
   ],
   "source": [
    "# Canal ST on\n",
    "\n",
    "canal = data.loc[data['STATION'] == 'CANAL ST'].loc[data['day_of_week'] == 'Saturday']\n",
    "canal = canal.groupby('TIME').sum().sort_values(by = ['Traffic'], ascending = False).reindex(ordered_times_1)\n",
    "# plt.bar(ordered_times_1, tsq.loc[:, 'Traffic'])\n",
    "\n",
    "fig = plt.figure(figsize = (15,8))\n",
    "ax5 = sns.barplot(x = Categories, y = 'Traffic', data=canal.reset_index(), label='Total').set_title('Canal Street', fontsize = 14)\n",
    "# ax.ticklabel_format(style='sci', axis = 'y')\n",
    "sns.set_style(\"whitegrid\")\n",
    "plt.ylabel('Traffic', fontsize=16)\n",
    "# plt.savefig('st86.png', bbox_inches = 'tight')\n",
    "plt.show()"
   ]
  },
  {
   "cell_type": "code",
   "execution_count": null,
   "metadata": {},
   "outputs": [],
   "source": []
  }
 ],
 "metadata": {
  "kernelspec": {
   "display_name": "Python 3",
   "language": "python",
   "name": "python3"
  },
  "language_info": {
   "codemirror_mode": {
    "name": "ipython",
    "version": 3
   },
   "file_extension": ".py",
   "mimetype": "text/x-python",
   "name": "python",
   "nbconvert_exporter": "python",
   "pygments_lexer": "ipython3",
   "version": "3.7.2"
  }
 },
 "nbformat": 4,
 "nbformat_minor": 2
}
